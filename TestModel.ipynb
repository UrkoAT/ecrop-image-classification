{
 "cells": [
  {
   "cell_type": "code",
   "execution_count": 1,
   "metadata": {},
   "outputs": [
    {
     "name": "stderr",
     "output_type": "stream",
     "text": [
      "2022-05-24 08:52:26.795201: W tensorflow/stream_executor/platform/default/dso_loader.cc:64] Could not load dynamic library 'libcudart.so.11.0'; dlerror: libcudart.so.11.0: cannot open shared object file: No such file or directory; LD_LIBRARY_PATH: /media/DATA1/shared/PBL6/env/lib/python3.8/site-packages/cv2/../../lib64:\n",
      "2022-05-24 08:52:26.795224: I tensorflow/stream_executor/cuda/cudart_stub.cc:29] Ignore above cudart dlerror if you do not have a GPU set up on your machine.\n"
     ]
    }
   ],
   "source": [
    "import cv2\n",
    "import numpy as np\n",
    "from PIL import Image\n",
    "from patchify import patchify\n",
    "from tensorflow.keras.models import load_model\n",
    "\n",
    "PATCH_SIZE = 480\n",
    "\n",
    "def patch_image(image):\n",
    "\n",
    "    instances = []\n",
    "\n",
    "    if type(image) == str:\n",
    "        image = cv2.imread(image)\n",
    "    \n",
    "    image = cv2.cvtColor(image, cv2.COLOR_BGR2RGB)\n",
    "\n",
    "    size_x = (image.shape[1] // PATCH_SIZE) * PATCH_SIZE  # get width to nearest size divisible by patch size\n",
    "    size_y = (image.shape[0] // PATCH_SIZE) * PATCH_SIZE  # get height to nearest size divisible by patch size\n",
    "\n",
    "    image = Image.fromarray(image)\n",
    "\n",
    "    # Crop original image to size divisible by patch size from top left corner\n",
    "    image = np.array(image.crop((0, 0, size_x, size_y)))\n",
    "\n",
    "    # Extract patches from each image, step=patch_size means no overlap\n",
    "    patch_img = patchify(image, (PATCH_SIZE, PATCH_SIZE, 3), step=PATCH_SIZE)\n",
    "\n",
    "    # iterate over vertical patch axis\n",
    "    for j in range(patch_img.shape[0]):\n",
    "        # iterate over horizontal patch axis\n",
    "        for k in range(patch_img.shape[1]):\n",
    "            # patches are located like a grid. use (j, k) indices to extract single patched image\n",
    "            single_patch_img = patch_img[j, k]\n",
    "\n",
    "            # Drop extra extra dimension from patchify\n",
    "            instances.append(np.squeeze(single_patch_img))\n",
    "\n",
    "    return instances, (int(size_x/PATCH_SIZE), int(size_y/PATCH_SIZE))"
   ]
  },
  {
   "cell_type": "code",
   "execution_count": 2,
   "metadata": {},
   "outputs": [],
   "source": [
    "def visualize(image):\n",
    "    img = Image.fromarray(image)\n",
    "    img.show()"
   ]
  },
  {
   "cell_type": "code",
   "execution_count": 3,
   "metadata": {},
   "outputs": [],
   "source": [
    "def depatchify(patches_arr, size, p_size=PATCH_SIZE):\n",
    "    patches_np = np.array(patches_arr)\n",
    "\n",
    "    w, h = size\n",
    "\n",
    "    reshaped = patches_np.reshape(w, h, p_size, p_size, 3)\n",
    "\n",
    "    bag = []\n",
    "\n",
    "    for subindex in range(reshaped.shape[0]):\n",
    "        line = np.concatenate(reshaped[subindex],axis=1)\n",
    "        bag.append(line)\n",
    "\n",
    "    image_to_reshape = np.array(bag)\n",
    "\n",
    "\n",
    "\n",
    "    return image_to_reshape.reshape(w*p_size, h*p_size, 3)"
   ]
  },
  {
   "cell_type": "code",
   "execution_count": 4,
   "metadata": {},
   "outputs": [],
   "source": [
    "from enum import Enum\n",
    "class MaskColorMap(Enum):\n",
    "    Urban = (0, 255, 255) # Cyan\n",
    "    Agriculture = (255, 255, 0) # Amarillo\n",
    "    Rangeland = (255, 0, 255) # Morado\n",
    "    Forest = (0, 255, 0) # Verde\n",
    "    Water = (0, 0, 255) # Azul\n",
    "    Barren = (255, 255, 255) # Blanco\n",
    "    Uknown = (0,0,0) # Negro"
   ]
  },
  {
   "cell_type": "code",
   "execution_count": 5,
   "metadata": {},
   "outputs": [],
   "source": [
    "from tensorflow.keras.backend import flatten, sum\n",
    "from keras.callbacks import ModelCheckpoint, EarlyStopping, CSVLogger\n",
    "\n",
    "def jaccard_index(y_true, y_pred):\n",
    "    y_true_f = flatten(y_true)\n",
    "    y_pred_f = flatten(y_pred)\n",
    "    intersection = sum(y_true_f * y_pred_f)\n",
    "    return (intersection + 1.0) / (sum(y_true_f) + sum(y_pred_f) - intersection + 1.0)"
   ]
  },
  {
   "cell_type": "code",
   "execution_count": 6,
   "metadata": {},
   "outputs": [],
   "source": [
    "def rgb_encode_mask(mask):\n",
    "    # initialize rgb image with equal spatial resolution\n",
    "    rgb_encode_image = np.zeros((mask.shape[0], mask.shape[1], 3))\n",
    "\n",
    "    # iterate over MaskColorMap\n",
    "    for j, cls in enumerate(MaskColorMap):\n",
    "        # convert single integer channel to RGB channels\n",
    "        rgb_encode_image[(mask == j)] = np.array(cls.value) / 255.\n",
    "    return rgb_encode_image"
   ]
  },
  {
   "cell_type": "code",
   "execution_count": 7,
   "metadata": {},
   "outputs": [
    {
     "name": "stderr",
     "output_type": "stream",
     "text": [
      "2022-05-24 08:52:35.434592: I tensorflow/stream_executor/cuda/cuda_gpu_executor.cc:936] successful NUMA node read from SysFS had negative value (-1), but there must be at least one NUMA node, so returning NUMA node zero\n",
      "2022-05-24 08:52:35.435365: W tensorflow/stream_executor/platform/default/dso_loader.cc:64] Could not load dynamic library 'libcudart.so.11.0'; dlerror: libcudart.so.11.0: cannot open shared object file: No such file or directory; LD_LIBRARY_PATH: /media/DATA1/shared/PBL6/env/lib/python3.8/site-packages/cv2/../../lib64:\n",
      "2022-05-24 08:52:35.435714: W tensorflow/stream_executor/platform/default/dso_loader.cc:64] Could not load dynamic library 'libcublas.so.11'; dlerror: libcublas.so.11: cannot open shared object file: No such file or directory; LD_LIBRARY_PATH: /media/DATA1/shared/PBL6/env/lib/python3.8/site-packages/cv2/../../lib64:\n",
      "2022-05-24 08:52:35.436050: W tensorflow/stream_executor/platform/default/dso_loader.cc:64] Could not load dynamic library 'libcublasLt.so.11'; dlerror: libcublasLt.so.11: cannot open shared object file: No such file or directory; LD_LIBRARY_PATH: /media/DATA1/shared/PBL6/env/lib/python3.8/site-packages/cv2/../../lib64:\n",
      "2022-05-24 08:52:35.436376: W tensorflow/stream_executor/platform/default/dso_loader.cc:64] Could not load dynamic library 'libcufft.so.10'; dlerror: libcufft.so.10: cannot open shared object file: No such file or directory; LD_LIBRARY_PATH: /media/DATA1/shared/PBL6/env/lib/python3.8/site-packages/cv2/../../lib64:\n",
      "2022-05-24 08:52:35.436709: W tensorflow/stream_executor/platform/default/dso_loader.cc:64] Could not load dynamic library 'libcurand.so.10'; dlerror: libcurand.so.10: cannot open shared object file: No such file or directory; LD_LIBRARY_PATH: /media/DATA1/shared/PBL6/env/lib/python3.8/site-packages/cv2/../../lib64:\n",
      "2022-05-24 08:52:35.437031: W tensorflow/stream_executor/platform/default/dso_loader.cc:64] Could not load dynamic library 'libcusolver.so.11'; dlerror: libcusolver.so.11: cannot open shared object file: No such file or directory; LD_LIBRARY_PATH: /media/DATA1/shared/PBL6/env/lib/python3.8/site-packages/cv2/../../lib64:\n",
      "2022-05-24 08:52:35.437349: W tensorflow/stream_executor/platform/default/dso_loader.cc:64] Could not load dynamic library 'libcusparse.so.11'; dlerror: libcusparse.so.11: cannot open shared object file: No such file or directory; LD_LIBRARY_PATH: /media/DATA1/shared/PBL6/env/lib/python3.8/site-packages/cv2/../../lib64:\n",
      "2022-05-24 08:52:35.437669: W tensorflow/stream_executor/platform/default/dso_loader.cc:64] Could not load dynamic library 'libcudnn.so.8'; dlerror: libcudnn.so.8: cannot open shared object file: No such file or directory; LD_LIBRARY_PATH: /media/DATA1/shared/PBL6/env/lib/python3.8/site-packages/cv2/../../lib64:\n",
      "2022-05-24 08:52:35.437680: W tensorflow/core/common_runtime/gpu/gpu_device.cc:1850] Cannot dlopen some GPU libraries. Please make sure the missing libraries mentioned above are installed properly if you would like to use GPU. Follow the guide at https://www.tensorflow.org/install/gpu for how to download and setup the required libraries for your platform.\n",
      "Skipping registering GPU devices...\n",
      "2022-05-24 08:52:35.437960: I tensorflow/core/platform/cpu_feature_guard.cc:151] This TensorFlow binary is optimized with oneAPI Deep Neural Network Library (oneDNN) to use the following CPU instructions in performance-critical operations:  AVX2 FMA\n",
      "To enable them in other operations, rebuild TensorFlow with the appropriate compiler flags.\n"
     ]
    }
   ],
   "source": [
    "model = load_model('resnetv2.h5', custom_objects={'jaccard_index': jaccard_index})"
   ]
  },
  {
   "cell_type": "code",
   "execution_count": 12,
   "metadata": {},
   "outputs": [],
   "source": [
    "patches, size = patch_image('JupHub/dataset/8/train/176225_sat.jpg')\n",
    "groundtruth_bgr = cv2.imread('JupHub/dataset/8/masks/176225_mask.png')\n",
    "groundtruth = cv2.cvtColor(groundtruth_bgr, cv2.COLOR_BGR2RGB)"
   ]
  },
  {
   "cell_type": "code",
   "execution_count": 13,
   "metadata": {},
   "outputs": [
    {
     "name": "stderr",
     "output_type": "stream",
     "text": [
      "Error: no \"view\" rule for type \"image/png\" passed its test case\n",
      "       (for more information, add \"--debug=1\" on the command line)\n"
     ]
    }
   ],
   "source": [
    "visualize(depatchify(patches, size))\n"
   ]
  },
  {
   "cell_type": "code",
   "execution_count": null,
   "metadata": {},
   "outputs": [],
   "source": [
    "visualize(groundtruth)"
   ]
  },
  {
   "cell_type": "code",
   "execution_count": null,
   "metadata": {},
   "outputs": [],
   "source": [
    "predictions = []\n",
    "for patch in patches:\n",
    "    pred = model.predict(np.expand_dims(patch, 0))\n",
    "    pred = np.squeeze(pred)\n",
    "    pred = np.argmax(pred, axis=-1)\n",
    "    pred = rgb_encode_mask(pred)\n",
    "    pred = pred*255\n",
    "    predictions.append(pred)\n"
   ]
  },
  {
   "cell_type": "code",
   "execution_count": null,
   "metadata": {},
   "outputs": [],
   "source": [
    "prediction = depatchify(predictions, size)"
   ]
  },
  {
   "cell_type": "code",
   "execution_count": null,
   "metadata": {},
   "outputs": [],
   "source": [
    "p = np.array(predictions, dtype=np.uint8)"
   ]
  },
  {
   "cell_type": "code",
   "execution_count": null,
   "metadata": {},
   "outputs": [],
   "source": [
    "image = depatchify(p, size)"
   ]
  },
  {
   "cell_type": "code",
   "execution_count": null,
   "metadata": {},
   "outputs": [],
   "source": [
    "visualize(image)"
   ]
  },
  {
   "cell_type": "code",
   "execution_count": null,
   "metadata": {},
   "outputs": [],
   "source": []
  },
  {
   "cell_type": "code",
   "execution_count": null,
   "metadata": {},
   "outputs": [],
   "source": []
  },
  {
   "cell_type": "code",
   "execution_count": null,
   "metadata": {},
   "outputs": [],
   "source": []
  }
 ],
 "metadata": {
  "interpreter": {
   "hash": "5873b2ce1d0814eeeaf9049717a39c9e63ca0e9502b50f2615166b10c5e24a4e"
  },
  "kernelspec": {
   "display_name": "Python 3.8.10 ('env': venv)",
   "language": "python",
   "name": "python3"
  },
  "language_info": {
   "codemirror_mode": {
    "name": "ipython",
    "version": 3
   },
   "file_extension": ".py",
   "mimetype": "text/x-python",
   "name": "python",
   "nbconvert_exporter": "python",
   "pygments_lexer": "ipython3",
   "version": "3.8.10"
  },
  "orig_nbformat": 4
 },
 "nbformat": 4,
 "nbformat_minor": 2
}
