{
 "cells": [
  {
   "cell_type": "code",
   "execution_count": 1,
   "metadata": {},
   "outputs": [
    {
     "name": "stderr",
     "output_type": "stream",
     "text": [
      "2022-05-19 07:18:25.479545: W tensorflow/stream_executor/platform/default/dso_loader.cc:64] Could not load dynamic library 'libcudart.so.11.0'; dlerror: libcudart.so.11.0: cannot open shared object file: No such file or directory\n",
      "2022-05-19 07:18:25.479585: I tensorflow/stream_executor/cuda/cudart_stub.cc:29] Ignore above cudart dlerror if you do not have a GPU set up on your machine.\n"
     ]
    }
   ],
   "source": [
    "import grpc\n",
    "from tensorflow import make_tensor_proto\n",
    "from tensorflow_serving.apis import predict_pb2\n",
    "from tensorflow_serving.apis import prediction_log_pb2\n",
    "from tensorflow_serving.apis import prediction_service_pb2_grpc\n",
    "from tensorflow_serving.apis import get_model_metadata_pb2"
   ]
  },
  {
   "cell_type": "code",
   "execution_count": 2,
   "metadata": {},
   "outputs": [],
   "source": [
    "import cv2\n",
    "import numpy as np\n",
    "from PIL import Image\n",
    "from patchify import patchify\n",
    "\n",
    "PATCH_SIZE = 480\n",
    "\n",
    "def patch_image(image):\n",
    "\n",
    "    instances = []\n",
    "\n",
    "    if type(image) == str:\n",
    "        image = cv2.imread(image)\n",
    "    \n",
    "    image = cv2.cvtColor(image, cv2.COLOR_BGR2RGB)\n",
    "\n",
    "    size_x = (image.shape[1] // PATCH_SIZE) * PATCH_SIZE  # get width to nearest size divisible by patch size\n",
    "    size_y = (image.shape[0] // PATCH_SIZE) * PATCH_SIZE  # get height to nearest size divisible by patch size\n",
    "\n",
    "    image = Image.fromarray(image)\n",
    "\n",
    "    # Crop original image to size divisible by patch size from top left corner\n",
    "    image = np.array(image.crop((0, 0, size_x, size_y)))\n",
    "\n",
    "    # Extract patches from each image, step=patch_size means no overlap\n",
    "    patch_img = patchify(image, (PATCH_SIZE, PATCH_SIZE, 3), step=PATCH_SIZE)\n",
    "\n",
    "    # iterate over vertical patch axis\n",
    "    for j in range(patch_img.shape[0]):\n",
    "        # iterate over horizontal patch axis\n",
    "        for k in range(patch_img.shape[1]):\n",
    "            # patches are located like a grid. use (j, k) indices to extract single patched image\n",
    "            single_patch_img = patch_img[j, k]\n",
    "\n",
    "            # Drop extra extra dimension from patchify\n",
    "            instances.append(np.squeeze(single_patch_img))\n",
    "\n",
    "    return instances, (int(size_x/PATCH_SIZE), int(size_y/PATCH_SIZE))"
   ]
  },
  {
   "cell_type": "code",
   "execution_count": 3,
   "metadata": {},
   "outputs": [],
   "source": [
    "def depatchify(patches_arr, size, p_size=PATCH_SIZE):\n",
    "    patches_np = np.array(patches_arr)\n",
    "\n",
    "    w, h = size\n",
    "\n",
    "    reshaped = patches_np.reshape(w, h, p_size, p_size, 3)\n",
    "\n",
    "    bag = []\n",
    "\n",
    "    for subindex in range(reshaped.shape[0]):\n",
    "        line = np.concatenate(reshaped[subindex],axis=1)\n",
    "        bag.append(line)\n",
    "\n",
    "    image_to_reshape = np.array(bag)\n",
    "\n",
    "\n",
    "\n",
    "    return image_to_reshape.reshape(w*p_size, h*p_size, 3)"
   ]
  },
  {
   "cell_type": "code",
   "execution_count": 4,
   "metadata": {},
   "outputs": [],
   "source": [
    "from enum import Enum\n",
    "class MaskColorMap(Enum):\n",
    "    Urban = (0, 255, 255) # Cyan\n",
    "    Agriculture = (255, 255, 0) # Amarillo\n",
    "    Rangeland = (255, 0, 255) # Morado\n",
    "    Forest = (0, 255, 0) # Verde\n",
    "    Water = (0, 0, 255) # Azul\n",
    "    Barren = (255, 255, 255) # Blanco\n",
    "    Uknown = (0,0,0) # Negro"
   ]
  },
  {
   "cell_type": "code",
   "execution_count": 5,
   "metadata": {},
   "outputs": [],
   "source": [
    "from tensorflow.keras.backend import flatten, sum\n",
    "from keras.callbacks import ModelCheckpoint, EarlyStopping, CSVLogger\n",
    "\n",
    "def jaccard_index(y_true, y_pred):\n",
    "    y_true_f = flatten(y_true)\n",
    "    y_pred_f = flatten(y_pred)\n",
    "    intersection = sum(y_true_f * y_pred_f)\n",
    "    return (intersection + 1.0) / (sum(y_true_f) + sum(y_pred_f) - intersection + 1.0)"
   ]
  },
  {
   "cell_type": "code",
   "execution_count": 6,
   "metadata": {},
   "outputs": [],
   "source": [
    "def rgb_encode_mask(mask):\n",
    "    # initialize rgb image with equal spatial resolution\n",
    "    rgb_encode_image = np.zeros((mask.shape[0], mask.shape[1], 3))\n",
    "\n",
    "    # iterate over MaskColorMap\n",
    "    for j, cls in enumerate(MaskColorMap):\n",
    "        # convert single integer channel to RGB channels\n",
    "        rgb_encode_image[(mask == j)] = np.array(cls.value) / 255.\n",
    "    return rgb_encode_image"
   ]
  },
  {
   "cell_type": "code",
   "execution_count": 7,
   "metadata": {},
   "outputs": [],
   "source": [
    "def visualize(image):\n",
    "    img = Image.fromarray(image)\n",
    "    img.show()"
   ]
  },
  {
   "cell_type": "code",
   "execution_count": 8,
   "metadata": {},
   "outputs": [],
   "source": [
    "from keras import backend as K\n",
    "from keras.models import load_model\n",
    "from tensorflow.python.saved_model import builder as saved_model_builder\n",
    "from tensorflow.python.saved_model.signature_def_utils import predict_signature_def\n",
    "from tensorflow.python.saved_model import tag_constants\n",
    "\n",
    "# Function to export Keras model to Protocol Buffer format\n",
    "# Inputs:\n",
    "#       path_to_h5: Path to Keras h5 model\n",
    "#       export_path: Path to store Protocol Buffer model\n",
    "\n",
    "def export_h5_to_pb(path_to_h5, export_path):\n",
    "\n",
    "    # Set the learning phase to Test since the model is already trained.\n",
    "    K.set_learning_phase(0)\n",
    "\n",
    "    # Load the Keras model\n",
    "    keras_model = load_model(path_to_h5, custom_objects={'jaccard_index': jaccard_index})\n",
    "\n",
    "    # Build the Protocol Buffer SavedModel at 'export_path'\n",
    "    builder = saved_model_builder.SavedModelBuilder(export_path)\n",
    "\n",
    "    # Create prediction signature to be used by TensorFlow Serving Predict API\n",
    "    signature = predict_signature_def(inputs={\"images\": keras_model.input},\n",
    "                                      outputs={\"scores\": keras_model.output})\n",
    "\n",
    "    with K.get_session() as sess:\n",
    "        # Save the meta graph and the variables\n",
    "        builder.add_meta_graph_and_variables(sess=sess, tags=[tag_constants.SERVING],\n",
    "                                         signature_def_map={\"predict\": signature})\n",
    "\n",
    "    builder.save()"
   ]
  },
  {
   "cell_type": "code",
   "execution_count": 16,
   "metadata": {},
   "outputs": [
    {
     "name": "stderr",
     "output_type": "stream",
     "text": [
      "2022-05-19 07:24:30.373376: I tensorflow/stream_executor/cuda/cuda_gpu_executor.cc:936] successful NUMA node read from SysFS had negative value (-1), but there must be at least one NUMA node, so returning NUMA node zero\n",
      "2022-05-19 07:24:30.374015: W tensorflow/stream_executor/platform/default/dso_loader.cc:64] Could not load dynamic library 'libcudart.so.11.0'; dlerror: libcudart.so.11.0: cannot open shared object file: No such file or directory; LD_LIBRARY_PATH: /media/DATA1/shared/PBL6/env/lib/python3.8/site-packages/cv2/../../lib64:\n",
      "2022-05-19 07:24:30.374305: W tensorflow/stream_executor/platform/default/dso_loader.cc:64] Could not load dynamic library 'libcublas.so.11'; dlerror: libcublas.so.11: cannot open shared object file: No such file or directory; LD_LIBRARY_PATH: /media/DATA1/shared/PBL6/env/lib/python3.8/site-packages/cv2/../../lib64:\n",
      "2022-05-19 07:24:30.374823: W tensorflow/stream_executor/platform/default/dso_loader.cc:64] Could not load dynamic library 'libcublasLt.so.11'; dlerror: libcublasLt.so.11: cannot open shared object file: No such file or directory; LD_LIBRARY_PATH: /media/DATA1/shared/PBL6/env/lib/python3.8/site-packages/cv2/../../lib64:\n",
      "2022-05-19 07:24:30.375358: W tensorflow/stream_executor/platform/default/dso_loader.cc:64] Could not load dynamic library 'libcufft.so.10'; dlerror: libcufft.so.10: cannot open shared object file: No such file or directory; LD_LIBRARY_PATH: /media/DATA1/shared/PBL6/env/lib/python3.8/site-packages/cv2/../../lib64:\n",
      "2022-05-19 07:24:30.375888: W tensorflow/stream_executor/platform/default/dso_loader.cc:64] Could not load dynamic library 'libcurand.so.10'; dlerror: libcurand.so.10: cannot open shared object file: No such file or directory; LD_LIBRARY_PATH: /media/DATA1/shared/PBL6/env/lib/python3.8/site-packages/cv2/../../lib64:\n",
      "2022-05-19 07:24:30.376418: W tensorflow/stream_executor/platform/default/dso_loader.cc:64] Could not load dynamic library 'libcusolver.so.11'; dlerror: libcusolver.so.11: cannot open shared object file: No such file or directory; LD_LIBRARY_PATH: /media/DATA1/shared/PBL6/env/lib/python3.8/site-packages/cv2/../../lib64:\n",
      "2022-05-19 07:24:30.376945: W tensorflow/stream_executor/platform/default/dso_loader.cc:64] Could not load dynamic library 'libcusparse.so.11'; dlerror: libcusparse.so.11: cannot open shared object file: No such file or directory; LD_LIBRARY_PATH: /media/DATA1/shared/PBL6/env/lib/python3.8/site-packages/cv2/../../lib64:\n",
      "2022-05-19 07:24:30.377480: W tensorflow/stream_executor/platform/default/dso_loader.cc:64] Could not load dynamic library 'libcudnn.so.8'; dlerror: libcudnn.so.8: cannot open shared object file: No such file or directory; LD_LIBRARY_PATH: /media/DATA1/shared/PBL6/env/lib/python3.8/site-packages/cv2/../../lib64:\n",
      "2022-05-19 07:24:30.377524: W tensorflow/core/common_runtime/gpu/gpu_device.cc:1850] Cannot dlopen some GPU libraries. Please make sure the missing libraries mentioned above are installed properly if you would like to use GPU. Follow the guide at https://www.tensorflow.org/install/gpu for how to download and setup the required libraries for your platform.\n",
      "Skipping registering GPU devices...\n",
      "2022-05-19 07:24:31.047592: I tensorflow/core/platform/cpu_feature_guard.cc:151] This TensorFlow binary is optimized with oneAPI Deep Neural Network Library (oneDNN) to use the following CPU instructions in performance-critical operations:  AVX2 FMA\n",
      "To enable them in other operations, rebuild TensorFlow with the appropriate compiler flags.\n"
     ]
    }
   ],
   "source": [
    "from tensorflow.keras.models import load_model\n",
    "import tensorflow as tf\n",
    "if tf.executing_eagerly():\n",
    "   tf.compat.v1.disable_eager_execution()\n",
    "\n",
    "\n",
    "MODEL_FILE = 'new_ecrop_model.h5'\n",
    "\n",
    "model = load_model(MODEL_FILE, custom_objects={'jaccard_index': jaccard_index})"
   ]
  },
  {
   "cell_type": "code",
   "execution_count": 16,
   "metadata": {},
   "outputs": [
    {
     "name": "stdout",
     "output_type": "stream",
     "text": [
      "INFO:tensorflow:No assets to save.\n",
      "INFO:tensorflow:No assets to write.\n",
      "INFO:tensorflow:SavedModel written to: ecrop-main-serving/saved_model.pb\n"
     ]
    }
   ],
   "source": [
    "export_h5_to_pb('new_ecrop_model.h5', 'ecrop-main-serving')"
   ]
  },
  {
   "cell_type": "code",
   "execution_count": 9,
   "metadata": {},
   "outputs": [],
   "source": [
    "channel = grpc.insecure_channel('localhost:8500')\n",
    "\n",
    "stub = prediction_service_pb2_grpc.PredictionServiceStub(channel)\n",
    "\n",
    "MODEL = 'ecrop-main-serving'\n",
    "VERSION = 1\n",
    "\n",
    "INPUT_LAYER = 'input_1'\n",
    "OUTPUT_LAYER = 'conv2d_18'\n",
    "\n",
    "request = predict_pb2.PredictRequest()\n",
    "request.model_spec.name = MODEL\n",
    "request.model_spec.version.value = VERSION\n"
   ]
  },
  {
   "cell_type": "code",
   "execution_count": 10,
   "metadata": {},
   "outputs": [],
   "source": [
    "patches, size = patch_image('input/37586_sat.jpg')\n",
    "\n",
    "img = patches[0]"
   ]
  },
  {
   "cell_type": "code",
   "execution_count": 11,
   "metadata": {},
   "outputs": [],
   "source": [
    "sendable = np.expand_dims(img, 0)\n",
    "\n",
    "request.inputs[INPUT_LAYER].CopyFrom(make_tensor_proto(sendable, shape=sendable.shape, dtype=float))"
   ]
  },
  {
   "cell_type": "code",
   "execution_count": 12,
   "metadata": {},
   "outputs": [
    {
     "data": {
      "text/plain": [
       "(1, 480, 480, 3)"
      ]
     },
     "execution_count": 12,
     "metadata": {},
     "output_type": "execute_result"
    }
   ],
   "source": [
    "sendable.shape"
   ]
  },
  {
   "cell_type": "code",
   "execution_count": 13,
   "metadata": {},
   "outputs": [
    {
     "data": {
      "text/plain": [
       "dtype('uint8')"
      ]
     },
     "execution_count": 13,
     "metadata": {},
     "output_type": "execute_result"
    }
   ],
   "source": [
    "sendable.dtype"
   ]
  },
  {
   "cell_type": "code",
   "execution_count": 17,
   "metadata": {},
   "outputs": [
    {
     "name": "stderr",
     "output_type": "stream",
     "text": [
      "/media/DATA1/shared/PBL6/env/lib/python3.8/site-packages/keras/engine/training_v1.py:2079: UserWarning: `Model.state_updates` will be removed in a future version. This property should not be used in TensorFlow 2.0, as `updates` are applied automatically.\n",
      "  updates=self.state_updates,\n"
     ]
    },
    {
     "data": {
      "text/plain": [
       "array([[[[1.64815467e-02, 7.53952742e-01, 5.91568016e-02, ...,\n",
       "          2.09163851e-03, 1.64591119e-01, 8.83900702e-06],\n",
       "         [8.16725660e-03, 8.25182021e-01, 3.62326354e-02, ...,\n",
       "          2.42826319e-03, 1.25607163e-01, 5.63292951e-06],\n",
       "         [6.70527248e-03, 8.04976225e-01, 2.95364335e-02, ...,\n",
       "          1.75316550e-03, 1.54991075e-01, 4.49290155e-06],\n",
       "         ...,\n",
       "         [3.05010881e-02, 4.54666913e-01, 8.47352594e-02, ...,\n",
       "          2.99233827e-03, 4.19645905e-01, 5.00178903e-05],\n",
       "         [3.16225924e-02, 4.86861885e-01, 1.34517089e-01, ...,\n",
       "          1.80737569e-03, 3.37441683e-01, 1.37286006e-05],\n",
       "         [3.36461999e-02, 4.83076274e-01, 1.57646641e-01, ...,\n",
       "          1.69270823e-03, 3.14190060e-01, 1.07841106e-05]],\n",
       "\n",
       "        [[1.16860922e-02, 7.91635096e-01, 4.17574830e-02, ...,\n",
       "          2.12590024e-03, 1.50582671e-01, 9.97508960e-06],\n",
       "         [5.77112474e-03, 8.68918955e-01, 2.60704756e-02, ...,\n",
       "          2.12276541e-03, 9.58790928e-02, 4.49094432e-06],\n",
       "         [4.85227164e-03, 8.34296107e-01, 2.26085074e-02, ...,\n",
       "          1.25613005e-03, 1.35712311e-01, 3.89675506e-06],\n",
       "         ...,\n",
       "         [2.45756563e-02, 4.72681105e-01, 5.90974502e-02, ...,\n",
       "          2.61618220e-03, 4.35018510e-01, 5.20993999e-05],\n",
       "         [2.50680875e-02, 4.63286132e-01, 7.11542740e-02, ...,\n",
       "          1.76757376e-03, 4.31645960e-01, 4.44672369e-05],\n",
       "         [2.99289599e-02, 4.80282545e-01, 1.09275028e-01, ...,\n",
       "          1.79002585e-03, 3.69881511e-01, 2.23676525e-05]],\n",
       "\n",
       "        [[1.17046637e-02, 7.86845446e-01, 3.65504064e-02, ...,\n",
       "          1.84601045e-03, 1.61194831e-01, 9.59804220e-06],\n",
       "         [6.55558007e-03, 8.61092508e-01, 2.22620238e-02, ...,\n",
       "          1.34565146e-03, 1.07913822e-01, 4.24607924e-06],\n",
       "         [8.35272949e-03, 8.25627983e-01, 2.16048248e-02, ...,\n",
       "          1.47538516e-03, 1.42029554e-01, 5.07037203e-06],\n",
       "         ...,\n",
       "         [2.61814501e-02, 3.74250025e-01, 4.13257331e-02, ...,\n",
       "          1.75137003e-03, 5.52671492e-01, 7.38132730e-05],\n",
       "         [2.30477769e-02, 4.02510107e-01, 4.32644896e-02, ...,\n",
       "          1.18908810e-03, 5.26750684e-01, 5.53144528e-05],\n",
       "         [2.33568475e-02, 4.17729735e-01, 5.99710494e-02, ...,\n",
       "          1.37516914e-03, 4.92888242e-01, 5.27063421e-05]],\n",
       "\n",
       "        ...,\n",
       "\n",
       "        [[7.90054968e-04, 9.67509687e-01, 1.92869771e-02, ...,\n",
       "          7.20084878e-04, 1.13215111e-02, 7.79138034e-08],\n",
       "         [8.03738600e-04, 9.74460006e-01, 2.11508274e-02, ...,\n",
       "          7.80483650e-04, 2.40018754e-03, 2.58112713e-08],\n",
       "         [7.17307208e-04, 9.83814240e-01, 1.29116112e-02, ...,\n",
       "          8.76133854e-04, 1.50287396e-03, 7.41759631e-09],\n",
       "         ...,\n",
       "         [2.32066549e-02, 8.81301522e-01, 4.21254747e-02, ...,\n",
       "          5.64661017e-03, 4.49449718e-02, 2.16574881e-05],\n",
       "         [1.94103438e-02, 8.61097693e-01, 3.91294360e-02, ...,\n",
       "          3.55759123e-03, 7.50740170e-02, 2.04859298e-05],\n",
       "         [2.55294535e-02, 7.95615792e-01, 5.55110499e-02, ...,\n",
       "          3.68297263e-03, 1.16023414e-01, 1.80222632e-05]],\n",
       "\n",
       "        [[3.00236000e-03, 9.28294659e-01, 3.80829498e-02, ...,\n",
       "          1.20741909e-03, 2.77305394e-02, 9.35362038e-07],\n",
       "         [2.20081559e-03, 9.66321945e-01, 2.00574864e-02, ...,\n",
       "          8.00677808e-04, 8.23406875e-03, 1.09754161e-07],\n",
       "         [1.63865858e-03, 9.84714925e-01, 5.54386759e-03, ...,\n",
       "          2.80097855e-04, 6.70329342e-03, 5.35729416e-09],\n",
       "         ...,\n",
       "         [1.96654424e-02, 8.99554431e-01, 1.72703732e-02, ...,\n",
       "          4.42456396e-04, 5.90726472e-02, 2.33688823e-07],\n",
       "         [1.73825994e-02, 8.63152385e-01, 2.22590808e-02, ...,\n",
       "          6.49362046e-04, 9.46602970e-02, 1.04856190e-06],\n",
       "         [2.37028487e-02, 7.96358228e-01, 4.18213978e-02, ...,\n",
       "          1.43401907e-03, 1.32009819e-01, 2.69824864e-06]],\n",
       "\n",
       "        [[5.95948985e-03, 9.03538346e-01, 3.81833762e-02, ...,\n",
       "          1.37805799e-03, 4.81419601e-02, 5.21849699e-07],\n",
       "         [2.57836096e-03, 9.67754900e-01, 1.05625922e-02, ...,\n",
       "          7.83946074e-04, 1.66798867e-02, 2.40564546e-08],\n",
       "         [2.52114679e-03, 9.80094790e-01, 2.67488905e-03, ...,\n",
       "          3.45809414e-04, 1.34747289e-02, 1.31477929e-09],\n",
       "         ...,\n",
       "         [2.30637603e-02, 9.03875589e-01, 1.16319982e-02, ...,\n",
       "          6.21142506e-04, 5.71349077e-02, 3.16866924e-08],\n",
       "         [2.70424094e-02, 8.54631305e-01, 2.39399523e-02, ...,\n",
       "          9.03514039e-04, 9.05215815e-02, 2.84682727e-07],\n",
       "         [3.40039432e-02, 7.82388330e-01, 4.81869392e-02, ...,\n",
       "          1.84056512e-03, 1.27947927e-01, 1.43410284e-06]]]],\n",
       "      dtype=float32)"
      ]
     },
     "execution_count": 17,
     "metadata": {},
     "output_type": "execute_result"
    }
   ],
   "source": [
    "model.predict(sendable)"
   ]
  },
  {
   "cell_type": "code",
   "execution_count": 14,
   "metadata": {},
   "outputs": [
    {
     "ename": "_InactiveRpcError",
     "evalue": "<_InactiveRpcError of RPC that terminated with:\n\tstatus = StatusCode.INVALID_ARGUMENT\n\tdetails = \"2 root error(s) found.\n  (0) INVALID_ARGUMENT: Conv2DSlowBackpropInput: Size of out_backprop doesn't match computed: actual = 30, computed = 10 spatial_dim: 2 input: 20 filter: 2 output: 30 stride: 2 dilation: 1\n\t [[{{function_node __inference__wrapped_model_1708}}{{node model/conv2d_transpose/conv2d_transpose}}]]\n\t [[StatefulPartitionedCall/_315]]\n  (1) INVALID_ARGUMENT: Conv2DSlowBackpropInput: Size of out_backprop doesn't match computed: actual = 30, computed = 10 spatial_dim: 2 input: 20 filter: 2 output: 30 stride: 2 dilation: 1\n\t [[{{function_node __inference__wrapped_model_1708}}{{node model/conv2d_transpose/conv2d_transpose}}]]\n0 successful operations.\n0 derived errors ignored.\"\n\tdebug_error_string = \"{\"created\":\"@1652944743.675782258\",\"description\":\"Error received from peer ipv6:[::1]:8500\",\"file\":\"src/core/lib/surface/call.cc\",\"file_line\":952,\"grpc_message\":\"2 root error(s) found.\\n  (0) INVALID_ARGUMENT: Conv2DSlowBackpropInput: Size of out_backprop doesn't match computed: actual = 30, computed = 10 spatial_dim: 2 input: 20 filter: 2 output: 30 stride: 2 dilation: 1\\n\\t [[{{function_node __inference__wrapped_model_1708}}{{node model/conv2d_transpose/conv2d_transpose}}]]\\n\\t [[StatefulPartitionedCall/_315]]\\n  (1) INVALID_ARGUMENT: Conv2DSlowBackpropInput: Size of out_backprop doesn't match computed: actual = 30, computed = 10 spatial_dim: 2 input: 20 filter: 2 output: 30 stride: 2 dilation: 1\\n\\t [[{{function_node __inference__wrapped_model_1708}}{{node model/conv2d_transpose/conv2d_transpose}}]]\\n0 successful operations.\\n0 derived errors ignored.\",\"grpc_status\":3}\"\n>",
     "output_type": "error",
     "traceback": [
      "\u001b[0;31m---------------------------------------------------------------------------\u001b[0m",
      "\u001b[0;31m_InactiveRpcError\u001b[0m                         Traceback (most recent call last)",
      "\u001b[1;32m/media/DATA1/shared/PBL6/pruebas.ipynb Cell 16'\u001b[0m in \u001b[0;36m<cell line: 1>\u001b[0;34m()\u001b[0m\n\u001b[0;32m----> <a href='vscode-notebook-cell://ssh-remote%2Bservkolay.ddns.net/media/DATA1/shared/PBL6/pruebas.ipynb#ch0000015vscode-remote?line=0'>1</a>\u001b[0m result \u001b[39m=\u001b[39m stub\u001b[39m.\u001b[39;49mPredict(request, \u001b[39m10\u001b[39;49m)\n",
      "File \u001b[0;32m/media/DATA1/shared/PBL6/env/lib/python3.8/site-packages/grpc/_channel.py:946\u001b[0m, in \u001b[0;36m_UnaryUnaryMultiCallable.__call__\u001b[0;34m(self, request, timeout, metadata, credentials, wait_for_ready, compression)\u001b[0m\n\u001b[1;32m    <a href='file:///media/DATA1/shared/PBL6/env/lib/python3.8/site-packages/grpc/_channel.py?line=936'>937</a>\u001b[0m \u001b[39mdef\u001b[39;00m \u001b[39m__call__\u001b[39m(\u001b[39mself\u001b[39m,\n\u001b[1;32m    <a href='file:///media/DATA1/shared/PBL6/env/lib/python3.8/site-packages/grpc/_channel.py?line=937'>938</a>\u001b[0m              request,\n\u001b[1;32m    <a href='file:///media/DATA1/shared/PBL6/env/lib/python3.8/site-packages/grpc/_channel.py?line=938'>939</a>\u001b[0m              timeout\u001b[39m=\u001b[39m\u001b[39mNone\u001b[39;00m,\n\u001b[0;32m   (...)\u001b[0m\n\u001b[1;32m    <a href='file:///media/DATA1/shared/PBL6/env/lib/python3.8/site-packages/grpc/_channel.py?line=941'>942</a>\u001b[0m              wait_for_ready\u001b[39m=\u001b[39m\u001b[39mNone\u001b[39;00m,\n\u001b[1;32m    <a href='file:///media/DATA1/shared/PBL6/env/lib/python3.8/site-packages/grpc/_channel.py?line=942'>943</a>\u001b[0m              compression\u001b[39m=\u001b[39m\u001b[39mNone\u001b[39;00m):\n\u001b[1;32m    <a href='file:///media/DATA1/shared/PBL6/env/lib/python3.8/site-packages/grpc/_channel.py?line=943'>944</a>\u001b[0m     state, call, \u001b[39m=\u001b[39m \u001b[39mself\u001b[39m\u001b[39m.\u001b[39m_blocking(request, timeout, metadata, credentials,\n\u001b[1;32m    <a href='file:///media/DATA1/shared/PBL6/env/lib/python3.8/site-packages/grpc/_channel.py?line=944'>945</a>\u001b[0m                                   wait_for_ready, compression)\n\u001b[0;32m--> <a href='file:///media/DATA1/shared/PBL6/env/lib/python3.8/site-packages/grpc/_channel.py?line=945'>946</a>\u001b[0m     \u001b[39mreturn\u001b[39;00m _end_unary_response_blocking(state, call, \u001b[39mFalse\u001b[39;49;00m, \u001b[39mNone\u001b[39;49;00m)\n",
      "File \u001b[0;32m/media/DATA1/shared/PBL6/env/lib/python3.8/site-packages/grpc/_channel.py:849\u001b[0m, in \u001b[0;36m_end_unary_response_blocking\u001b[0;34m(state, call, with_call, deadline)\u001b[0m\n\u001b[1;32m    <a href='file:///media/DATA1/shared/PBL6/env/lib/python3.8/site-packages/grpc/_channel.py?line=846'>847</a>\u001b[0m         \u001b[39mreturn\u001b[39;00m state\u001b[39m.\u001b[39mresponse\n\u001b[1;32m    <a href='file:///media/DATA1/shared/PBL6/env/lib/python3.8/site-packages/grpc/_channel.py?line=847'>848</a>\u001b[0m \u001b[39melse\u001b[39;00m:\n\u001b[0;32m--> <a href='file:///media/DATA1/shared/PBL6/env/lib/python3.8/site-packages/grpc/_channel.py?line=848'>849</a>\u001b[0m     \u001b[39mraise\u001b[39;00m _InactiveRpcError(state)\n",
      "\u001b[0;31m_InactiveRpcError\u001b[0m: <_InactiveRpcError of RPC that terminated with:\n\tstatus = StatusCode.INVALID_ARGUMENT\n\tdetails = \"2 root error(s) found.\n  (0) INVALID_ARGUMENT: Conv2DSlowBackpropInput: Size of out_backprop doesn't match computed: actual = 30, computed = 10 spatial_dim: 2 input: 20 filter: 2 output: 30 stride: 2 dilation: 1\n\t [[{{function_node __inference__wrapped_model_1708}}{{node model/conv2d_transpose/conv2d_transpose}}]]\n\t [[StatefulPartitionedCall/_315]]\n  (1) INVALID_ARGUMENT: Conv2DSlowBackpropInput: Size of out_backprop doesn't match computed: actual = 30, computed = 10 spatial_dim: 2 input: 20 filter: 2 output: 30 stride: 2 dilation: 1\n\t [[{{function_node __inference__wrapped_model_1708}}{{node model/conv2d_transpose/conv2d_transpose}}]]\n0 successful operations.\n0 derived errors ignored.\"\n\tdebug_error_string = \"{\"created\":\"@1652944743.675782258\",\"description\":\"Error received from peer ipv6:[::1]:8500\",\"file\":\"src/core/lib/surface/call.cc\",\"file_line\":952,\"grpc_message\":\"2 root error(s) found.\\n  (0) INVALID_ARGUMENT: Conv2DSlowBackpropInput: Size of out_backprop doesn't match computed: actual = 30, computed = 10 spatial_dim: 2 input: 20 filter: 2 output: 30 stride: 2 dilation: 1\\n\\t [[{{function_node __inference__wrapped_model_1708}}{{node model/conv2d_transpose/conv2d_transpose}}]]\\n\\t [[StatefulPartitionedCall/_315]]\\n  (1) INVALID_ARGUMENT: Conv2DSlowBackpropInput: Size of out_backprop doesn't match computed: actual = 30, computed = 10 spatial_dim: 2 input: 20 filter: 2 output: 30 stride: 2 dilation: 1\\n\\t [[{{function_node __inference__wrapped_model_1708}}{{node model/conv2d_transpose/conv2d_transpose}}]]\\n0 successful operations.\\n0 derived errors ignored.\",\"grpc_status\":3}\"\n>"
     ]
    }
   ],
   "source": [
    "result = stub.Predict(request, 10)"
   ]
  },
  {
   "cell_type": "code",
   "execution_count": 58,
   "metadata": {},
   "outputs": [],
   "source": [
    "from tensorflow.keras.models import load_model\n",
    "\n",
    "model = load_model('ecrop-main-serving', custom_objects={'jaccard_index': jaccard_index})\n"
   ]
  },
  {
   "cell_type": "code",
   "execution_count": 64,
   "metadata": {},
   "outputs": [
    {
     "name": "stdout",
     "output_type": "stream",
     "text": [
      "Model: \"model\"\n",
      "__________________________________________________________________________________________________\n",
      " Layer (type)                   Output Shape         Param #     Connected to                     \n",
      "==================================================================================================\n",
      " input_1 (InputLayer)           [(None, 480, 480, 3  0           []                               \n",
      "                                )]                                                                \n",
      "                                                                                                  \n",
      " rescaling (Rescaling)          (None, 480, 480, 3)  0           ['input_1[0][0]']                \n",
      "                                                                                                  \n",
      " conv2d (Conv2D)                (None, 480, 480, 16  448         ['rescaling[0][0]']              \n",
      "                                )                                                                 \n",
      "                                                                                                  \n",
      " dropout (Dropout)              (None, 480, 480, 16  0           ['conv2d[0][0]']                 \n",
      "                                )                                                                 \n",
      "                                                                                                  \n",
      " conv2d_1 (Conv2D)              (None, 480, 480, 16  2320        ['dropout[0][0]']                \n",
      "                                )                                                                 \n",
      "                                                                                                  \n",
      " max_pooling2d (MaxPooling2D)   (None, 240, 240, 16  0           ['conv2d_1[0][0]']               \n",
      "                                )                                                                 \n",
      "                                                                                                  \n",
      " conv2d_2 (Conv2D)              (None, 240, 240, 32  4640        ['max_pooling2d[0][0]']          \n",
      "                                )                                                                 \n",
      "                                                                                                  \n",
      " dropout_1 (Dropout)            (None, 240, 240, 32  0           ['conv2d_2[0][0]']               \n",
      "                                )                                                                 \n",
      "                                                                                                  \n",
      " conv2d_3 (Conv2D)              (None, 240, 240, 32  9248        ['dropout_1[0][0]']              \n",
      "                                )                                                                 \n",
      "                                                                                                  \n",
      " max_pooling2d_1 (MaxPooling2D)  (None, 120, 120, 32  0          ['conv2d_3[0][0]']               \n",
      "                                )                                                                 \n",
      "                                                                                                  \n",
      " conv2d_4 (Conv2D)              (None, 120, 120, 64  18496       ['max_pooling2d_1[0][0]']        \n",
      "                                )                                                                 \n",
      "                                                                                                  \n",
      " dropout_2 (Dropout)            (None, 120, 120, 64  0           ['conv2d_4[0][0]']               \n",
      "                                )                                                                 \n",
      "                                                                                                  \n",
      " conv2d_5 (Conv2D)              (None, 120, 120, 64  36928       ['dropout_2[0][0]']              \n",
      "                                )                                                                 \n",
      "                                                                                                  \n",
      " max_pooling2d_2 (MaxPooling2D)  (None, 60, 60, 64)  0           ['conv2d_5[0][0]']               \n",
      "                                                                                                  \n",
      " conv2d_6 (Conv2D)              (None, 60, 60, 128)  73856       ['max_pooling2d_2[0][0]']        \n",
      "                                                                                                  \n",
      " dropout_3 (Dropout)            (None, 60, 60, 128)  0           ['conv2d_6[0][0]']               \n",
      "                                                                                                  \n",
      " conv2d_7 (Conv2D)              (None, 60, 60, 128)  147584      ['dropout_3[0][0]']              \n",
      "                                                                                                  \n",
      " max_pooling2d_3 (MaxPooling2D)  (None, 30, 30, 128)  0          ['conv2d_7[0][0]']               \n",
      "                                                                                                  \n",
      " conv2d_8 (Conv2D)              (None, 30, 30, 480)  553440      ['max_pooling2d_3[0][0]']        \n",
      "                                                                                                  \n",
      " dropout_4 (Dropout)            (None, 30, 30, 480)  0           ['conv2d_8[0][0]']               \n",
      "                                                                                                  \n",
      " conv2d_9 (Conv2D)              (None, 30, 30, 480)  2074080     ['dropout_4[0][0]']              \n",
      "                                                                                                  \n",
      " conv2d_transpose (Conv2DTransp  (None, 60, 60, 128)  245888     ['conv2d_9[0][0]']               \n",
      " ose)                                                                                             \n",
      "                                                                                                  \n",
      " concatenate (Concatenate)      (None, 60, 60, 256)  0           ['conv2d_transpose[0][0]',       \n",
      "                                                                  'conv2d_7[0][0]']               \n",
      "                                                                                                  \n",
      " conv2d_10 (Conv2D)             (None, 60, 60, 128)  295040      ['concatenate[0][0]']            \n",
      "                                                                                                  \n",
      " dropout_5 (Dropout)            (None, 60, 60, 128)  0           ['conv2d_10[0][0]']              \n",
      "                                                                                                  \n",
      " conv2d_11 (Conv2D)             (None, 60, 60, 128)  147584      ['dropout_5[0][0]']              \n",
      "                                                                                                  \n",
      " conv2d_transpose_1 (Conv2DTran  (None, 120, 120, 64  32832      ['conv2d_11[0][0]']              \n",
      " spose)                         )                                                                 \n",
      "                                                                                                  \n",
      " concatenate_1 (Concatenate)    (None, 120, 120, 12  0           ['conv2d_transpose_1[0][0]',     \n",
      "                                8)                                'conv2d_5[0][0]']               \n",
      "                                                                                                  \n",
      " conv2d_12 (Conv2D)             (None, 120, 120, 64  73792       ['concatenate_1[0][0]']          \n",
      "                                )                                                                 \n",
      "                                                                                                  \n",
      " dropout_6 (Dropout)            (None, 120, 120, 64  0           ['conv2d_12[0][0]']              \n",
      "                                )                                                                 \n",
      "                                                                                                  \n",
      " conv2d_13 (Conv2D)             (None, 120, 120, 64  36928       ['dropout_6[0][0]']              \n",
      "                                )                                                                 \n",
      "                                                                                                  \n",
      " conv2d_transpose_2 (Conv2DTran  (None, 240, 240, 32  8224       ['conv2d_13[0][0]']              \n",
      " spose)                         )                                                                 \n",
      "                                                                                                  \n",
      " concatenate_2 (Concatenate)    (None, 240, 240, 64  0           ['conv2d_transpose_2[0][0]',     \n",
      "                                )                                 'conv2d_3[0][0]']               \n",
      "                                                                                                  \n",
      " conv2d_14 (Conv2D)             (None, 240, 240, 32  18464       ['concatenate_2[0][0]']          \n",
      "                                )                                                                 \n",
      "                                                                                                  \n",
      " dropout_7 (Dropout)            (None, 240, 240, 32  0           ['conv2d_14[0][0]']              \n",
      "                                )                                                                 \n",
      "                                                                                                  \n",
      " conv2d_15 (Conv2D)             (None, 240, 240, 32  9248        ['dropout_7[0][0]']              \n",
      "                                )                                                                 \n",
      "                                                                                                  \n",
      " conv2d_transpose_3 (Conv2DTran  (None, 480, 480, 16  2064       ['conv2d_15[0][0]']              \n",
      " spose)                         )                                                                 \n",
      "                                                                                                  \n",
      " concatenate_3 (Concatenate)    (None, 480, 480, 32  0           ['conv2d_transpose_3[0][0]',     \n",
      "                                )                                 'conv2d_1[0][0]']               \n",
      "                                                                                                  \n",
      " conv2d_16 (Conv2D)             (None, 480, 480, 16  4624        ['concatenate_3[0][0]']          \n",
      "                                )                                                                 \n",
      "                                                                                                  \n",
      " dropout_8 (Dropout)            (None, 480, 480, 16  0           ['conv2d_16[0][0]']              \n",
      "                                )                                                                 \n",
      "                                                                                                  \n",
      " conv2d_17 (Conv2D)             (None, 480, 480, 16  2320        ['dropout_8[0][0]']              \n",
      "                                )                                                                 \n",
      "                                                                                                  \n",
      " conv2d_18 (Conv2D)             (None, 480, 480, 7)  119         ['conv2d_17[0][0]']              \n",
      "                                                                                                  \n",
      "==================================================================================================\n",
      "Total params: 3,798,167\n",
      "Trainable params: 3,798,167\n",
      "Non-trainable params: 0\n",
      "__________________________________________________________________________________________________\n"
     ]
    }
   ],
   "source": [
    "model.summary()"
   ]
  },
  {
   "cell_type": "code",
   "execution_count": 90,
   "metadata": {},
   "outputs": [
    {
     "name": "stdout",
     "output_type": "stream",
     "text": [
      "INFO:tensorflow:Assets written to: ecrop-main-serving/assets\n"
     ]
    }
   ],
   "source": [
    "model.save('ecrop-main-serving', save_format='tf',  )"
   ]
  },
  {
   "cell_type": "code",
   "execution_count": 94,
   "metadata": {},
   "outputs": [],
   "source": [
    "out = model.predict(sendable.astype(np.uint8))"
   ]
  },
  {
   "cell_type": "code",
   "execution_count": null,
   "metadata": {},
   "outputs": [],
   "source": []
  }
 ],
 "metadata": {
  "interpreter": {
   "hash": "5873b2ce1d0814eeeaf9049717a39c9e63ca0e9502b50f2615166b10c5e24a4e"
  },
  "kernelspec": {
   "display_name": "Python 3.8.10 ('env': venv)",
   "language": "python",
   "name": "python3"
  },
  "language_info": {
   "codemirror_mode": {
    "name": "ipython",
    "version": 3
   },
   "file_extension": ".py",
   "mimetype": "text/x-python",
   "name": "python",
   "nbconvert_exporter": "python",
   "pygments_lexer": "ipython3",
   "version": "3.8.10"
  },
  "orig_nbformat": 4
 },
 "nbformat": 4,
 "nbformat_minor": 2
}
