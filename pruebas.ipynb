{
 "cells": [
  {
   "cell_type": "code",
   "execution_count": 1,
   "metadata": {},
   "outputs": [
    {
     "name": "stderr",
     "output_type": "stream",
     "text": [
      "2022-05-24 06:39:50.937457: W tensorflow/stream_executor/platform/default/dso_loader.cc:64] Could not load dynamic library 'libcudart.so.11.0'; dlerror: libcudart.so.11.0: cannot open shared object file: No such file or directory\n",
      "2022-05-24 06:39:50.937482: I tensorflow/stream_executor/cuda/cudart_stub.cc:29] Ignore above cudart dlerror if you do not have a GPU set up on your machine.\n"
     ]
    }
   ],
   "source": [
    "import grpc\n",
    "from tensorflow import make_tensor_proto\n",
    "from tensorflow_serving.apis import predict_pb2\n",
    "from tensorflow_serving.apis import prediction_log_pb2\n",
    "from tensorflow_serving.apis import prediction_service_pb2_grpc\n",
    "from tensorflow_serving.apis import get_model_metadata_pb2"
   ]
  },
  {
   "cell_type": "code",
   "execution_count": 2,
   "metadata": {},
   "outputs": [],
   "source": [
    "import cv2\n",
    "import numpy as np\n",
    "from PIL import Image\n",
    "from patchify import patchify\n",
    "\n",
    "PATCH_SIZE = 480\n",
    "\n",
    "def patch_image(image):\n",
    "\n",
    "    instances = []\n",
    "\n",
    "    if type(image) == str:\n",
    "        image = cv2.imread(image)\n",
    "    \n",
    "    image = cv2.cvtColor(image, cv2.COLOR_BGR2RGB)\n",
    "\n",
    "    size_x = (image.shape[1] // PATCH_SIZE) * PATCH_SIZE  # get width to nearest size divisible by patch size\n",
    "    size_y = (image.shape[0] // PATCH_SIZE) * PATCH_SIZE  # get height to nearest size divisible by patch size\n",
    "\n",
    "    image = Image.fromarray(image)\n",
    "\n",
    "    # Crop original image to size divisible by patch size from top left corner\n",
    "    image = np.array(image.crop((0, 0, size_x, size_y)))\n",
    "\n",
    "    # Extract patches from each image, step=patch_size means no overlap\n",
    "    patch_img = patchify(image, (PATCH_SIZE, PATCH_SIZE, 3), step=PATCH_SIZE)\n",
    "\n",
    "    # iterate over vertical patch axis\n",
    "    for j in range(patch_img.shape[0]):\n",
    "        # iterate over horizontal patch axis\n",
    "        for k in range(patch_img.shape[1]):\n",
    "            # patches are located like a grid. use (j, k) indices to extract single patched image\n",
    "            single_patch_img = patch_img[j, k]\n",
    "\n",
    "            # Drop extra extra dimension from patchify\n",
    "            instances.append(np.squeeze(single_patch_img))\n",
    "\n",
    "    return instances, (int(size_x/PATCH_SIZE), int(size_y/PATCH_SIZE))"
   ]
  },
  {
   "cell_type": "code",
   "execution_count": 3,
   "metadata": {},
   "outputs": [],
   "source": [
    "def depatchify(patches_arr, size, p_size=PATCH_SIZE):\n",
    "    patches_np = np.array(patches_arr)\n",
    "\n",
    "    w, h = size\n",
    "\n",
    "    reshaped = patches_np.reshape(w, h, p_size, p_size, 3)\n",
    "\n",
    "    bag = []\n",
    "\n",
    "    for subindex in range(reshaped.shape[0]):\n",
    "        line = np.concatenate(reshaped[subindex],axis=1)\n",
    "        bag.append(line)\n",
    "\n",
    "    image_to_reshape = np.array(bag)\n",
    "\n",
    "\n",
    "\n",
    "    return image_to_reshape.reshape(w*p_size, h*p_size, 3)"
   ]
  },
  {
   "cell_type": "code",
   "execution_count": 4,
   "metadata": {},
   "outputs": [],
   "source": [
    "from enum import Enum\n",
    "class MaskColorMap(Enum):\n",
    "    Urban = (0, 255, 255) # Cyan\n",
    "    Agriculture = (255, 255, 0) # Amarillo\n",
    "    Rangeland = (255, 0, 255) # Morado\n",
    "    Forest = (0, 255, 0) # Verde\n",
    "    Water = (0, 0, 255) # Azul\n",
    "    Barren = (255, 255, 255) # Blanco\n",
    "    Uknown = (0,0,0) # Negro"
   ]
  },
  {
   "cell_type": "code",
   "execution_count": 5,
   "metadata": {},
   "outputs": [],
   "source": [
    "from tensorflow.keras.backend import flatten, sum\n",
    "from keras.callbacks import ModelCheckpoint, EarlyStopping, CSVLogger\n",
    "\n",
    "def jaccard_index(y_true, y_pred):\n",
    "    y_true_f = flatten(y_true)\n",
    "    y_pred_f = flatten(y_pred)\n",
    "    intersection = sum(y_true_f * y_pred_f)\n",
    "    return (intersection + 1.0) / (sum(y_true_f) + sum(y_pred_f) - intersection + 1.0)"
   ]
  },
  {
   "cell_type": "code",
   "execution_count": 6,
   "metadata": {},
   "outputs": [],
   "source": [
    "def rgb_encode_mask(mask):\n",
    "    # initialize rgb image with equal spatial resolution\n",
    "    rgb_encode_image = np.zeros((mask.shape[0], mask.shape[1], 3))\n",
    "\n",
    "    # iterate over MaskColorMap\n",
    "    for j, cls in enumerate(MaskColorMap):\n",
    "        # convert single integer channel to RGB channels\n",
    "        rgb_encode_image[(mask == j)] = np.array(cls.value) / 255.\n",
    "    return rgb_encode_image"
   ]
  },
  {
   "cell_type": "code",
   "execution_count": 7,
   "metadata": {},
   "outputs": [],
   "source": [
    "def visualize(image):\n",
    "    img = Image.fromarray(image)\n",
    "    img.show()"
   ]
  },
  {
   "cell_type": "code",
   "execution_count": 5,
   "metadata": {},
   "outputs": [
    {
     "name": "stderr",
     "output_type": "stream",
     "text": [
      "2022-05-19 08:02:16.573698: I tensorflow/stream_executor/cuda/cuda_gpu_executor.cc:936] successful NUMA node read from SysFS had negative value (-1), but there must be at least one NUMA node, so returning NUMA node zero\n",
      "2022-05-19 08:02:16.574494: W tensorflow/stream_executor/platform/default/dso_loader.cc:64] Could not load dynamic library 'libcudart.so.11.0'; dlerror: libcudart.so.11.0: cannot open shared object file: No such file or directory\n",
      "2022-05-19 08:02:16.574839: W tensorflow/stream_executor/platform/default/dso_loader.cc:64] Could not load dynamic library 'libcublas.so.11'; dlerror: libcublas.so.11: cannot open shared object file: No such file or directory\n",
      "2022-05-19 08:02:16.575174: W tensorflow/stream_executor/platform/default/dso_loader.cc:64] Could not load dynamic library 'libcublasLt.so.11'; dlerror: libcublasLt.so.11: cannot open shared object file: No such file or directory\n",
      "2022-05-19 08:02:16.575518: W tensorflow/stream_executor/platform/default/dso_loader.cc:64] Could not load dynamic library 'libcufft.so.10'; dlerror: libcufft.so.10: cannot open shared object file: No such file or directory\n",
      "2022-05-19 08:02:16.575839: W tensorflow/stream_executor/platform/default/dso_loader.cc:64] Could not load dynamic library 'libcurand.so.10'; dlerror: libcurand.so.10: cannot open shared object file: No such file or directory\n",
      "2022-05-19 08:02:16.576159: W tensorflow/stream_executor/platform/default/dso_loader.cc:64] Could not load dynamic library 'libcusolver.so.11'; dlerror: libcusolver.so.11: cannot open shared object file: No such file or directory\n",
      "2022-05-19 08:02:16.576474: W tensorflow/stream_executor/platform/default/dso_loader.cc:64] Could not load dynamic library 'libcusparse.so.11'; dlerror: libcusparse.so.11: cannot open shared object file: No such file or directory\n",
      "2022-05-19 08:02:16.576791: W tensorflow/stream_executor/platform/default/dso_loader.cc:64] Could not load dynamic library 'libcudnn.so.8'; dlerror: libcudnn.so.8: cannot open shared object file: No such file or directory\n",
      "2022-05-19 08:02:16.576801: W tensorflow/core/common_runtime/gpu/gpu_device.cc:1850] Cannot dlopen some GPU libraries. Please make sure the missing libraries mentioned above are installed properly if you would like to use GPU. Follow the guide at https://www.tensorflow.org/install/gpu for how to download and setup the required libraries for your platform.\n",
      "Skipping registering GPU devices...\n",
      "2022-05-19 08:02:16.577086: I tensorflow/core/platform/cpu_feature_guard.cc:151] This TensorFlow binary is optimized with oneAPI Deep Neural Network Library (oneDNN) to use the following CPU instructions in performance-critical operations:  AVX2 FMA\n",
      "To enable them in other operations, rebuild TensorFlow with the appropriate compiler flags.\n"
     ]
    }
   ],
   "source": [
    "from tensorflow.keras.models import load_model\n",
    "\n",
    "MODEL_FILE = 'tf2-ecrop.h5'\n",
    "\n",
    "model = load_model(MODEL_FILE, custom_objects={'jaccard_index': jaccard_index})"
   ]
  },
  {
   "cell_type": "code",
   "execution_count": 6,
   "metadata": {},
   "outputs": [
    {
     "name": "stderr",
     "output_type": "stream",
     "text": [
      "2022-05-19 08:02:18.988192: W tensorflow/python/util/util.cc:368] Sets are not currently considered sequences, but this may change in the future, so consider avoiding using them.\n"
     ]
    },
    {
     "name": "stdout",
     "output_type": "stream",
     "text": [
      "INFO:tensorflow:Assets written to: ecrop-main-serving/assets\n"
     ]
    }
   ],
   "source": [
    "from tensorflow.keras.models import save_model\n",
    "\n",
    "save_model(model, 'ecrop-main-serving')"
   ]
  },
  {
   "cell_type": "code",
   "execution_count": 38,
   "metadata": {},
   "outputs": [
    {
     "ename": "TypeError",
     "evalue": "__init__() got an unexpected keyword argument 'options'",
     "output_type": "error",
     "traceback": [
      "\u001b[0;31m---------------------------------------------------------------------------\u001b[0m",
      "\u001b[0;31mTypeError\u001b[0m                                 Traceback (most recent call last)",
      "\u001b[1;32m/media/DATA1/shared/PBL6/pruebas.ipynb Cell 10'\u001b[0m in \u001b[0;36m<cell line: 3>\u001b[0;34m()\u001b[0m\n\u001b[1;32m      <a href='vscode-notebook-cell://ssh-remote%2Bservkolay.ddns.net/media/DATA1/shared/PBL6/pruebas.ipynb#ch0000010vscode-remote?line=0'>1</a>\u001b[0m channel \u001b[39m=\u001b[39m grpc\u001b[39m.\u001b[39minsecure_channel(\u001b[39m'\u001b[39m\u001b[39mlocalhost:8500\u001b[39m\u001b[39m'\u001b[39m)\n\u001b[1;32m      <a href='vscode-notebook-cell://ssh-remote%2Bservkolay.ddns.net/media/DATA1/shared/PBL6/pruebas.ipynb#ch0000010vscode-remote?line=1'>2</a>\u001b[0m options \u001b[39m=\u001b[39m [(\u001b[39m'\u001b[39m\u001b[39mgrpc.max_receive_message_length\u001b[39m\u001b[39m'\u001b[39m, \u001b[39m100\u001b[39m\u001b[39m*\u001b[39m\u001b[39m1024\u001b[39m\u001b[39m*\u001b[39m\u001b[39m1024\u001b[39m)]\n\u001b[0;32m----> <a href='vscode-notebook-cell://ssh-remote%2Bservkolay.ddns.net/media/DATA1/shared/PBL6/pruebas.ipynb#ch0000010vscode-remote?line=2'>3</a>\u001b[0m stub \u001b[39m=\u001b[39m prediction_service_pb2_grpc\u001b[39m.\u001b[39;49mPredictionServiceStub(channel, options\u001b[39m=\u001b[39;49moptions)\n\u001b[1;32m      <a href='vscode-notebook-cell://ssh-remote%2Bservkolay.ddns.net/media/DATA1/shared/PBL6/pruebas.ipynb#ch0000010vscode-remote?line=4'>5</a>\u001b[0m MODEL \u001b[39m=\u001b[39m \u001b[39m'\u001b[39m\u001b[39mecrop-main-serving\u001b[39m\u001b[39m'\u001b[39m\n\u001b[1;32m      <a href='vscode-notebook-cell://ssh-remote%2Bservkolay.ddns.net/media/DATA1/shared/PBL6/pruebas.ipynb#ch0000010vscode-remote?line=5'>6</a>\u001b[0m VERSION \u001b[39m=\u001b[39m \u001b[39m1\u001b[39m\n",
      "\u001b[0;31mTypeError\u001b[0m: __init__() got an unexpected keyword argument 'options'"
     ]
    }
   ],
   "source": [
    "options = [('grpc.max_receive_message_length', 100*1024*1024)]\n",
    "\n",
    "channel = grpc.insecure_channel('localhost:8500',options=options)\n",
    "\n",
    "stub = prediction_service_pb2_grpc.PredictionServiceStub(channel)\n",
    "\n",
    "MODEL = 'ecrop-main-serving'\n",
    "VERSION = 1\n",
    "\n",
    "INPUT_LAYER = 'input_1'\n",
    "OUTPUT_LAYER = 'conv2d_18'\n",
    "\n",
    "request = predict_pb2.PredictRequest()\n",
    "request.model_spec.name = MODEL\n",
    "request.model_spec.version.value = VERSION\n"
   ]
  },
  {
   "cell_type": "code",
   "execution_count": 33,
   "metadata": {},
   "outputs": [],
   "source": [
    "patches, size = patch_image('input/37586_sat.jpg')\n",
    "\n",
    "img = patches[0]"
   ]
  },
  {
   "cell_type": "code",
   "execution_count": 34,
   "metadata": {},
   "outputs": [],
   "source": [
    "sendable = np.expand_dims(img, 0)\n",
    "\n",
    "request.inputs[INPUT_LAYER].CopyFrom(make_tensor_proto(sendable, shape=sendable.shape, dtype=float))"
   ]
  },
  {
   "cell_type": "code",
   "execution_count": 35,
   "metadata": {},
   "outputs": [
    {
     "data": {
      "text/plain": [
       "(1, 480, 480, 3)"
      ]
     },
     "execution_count": 35,
     "metadata": {},
     "output_type": "execute_result"
    }
   ],
   "source": [
    "sendable.shape"
   ]
  },
  {
   "cell_type": "code",
   "execution_count": 36,
   "metadata": {},
   "outputs": [
    {
     "data": {
      "text/plain": [
       "dtype('uint8')"
      ]
     },
     "execution_count": 36,
     "metadata": {},
     "output_type": "execute_result"
    }
   ],
   "source": [
    "sendable.dtype"
   ]
  },
  {
   "cell_type": "code",
   "execution_count": 37,
   "metadata": {},
   "outputs": [
    {
     "ename": "_InactiveRpcError",
     "evalue": "<_InactiveRpcError of RPC that terminated with:\n\tstatus = StatusCode.RESOURCE_EXHAUSTED\n\tdetails = \"Received message larger than max (6451291 vs. 4194304)\"\n\tdebug_error_string = \"{\"created\":\"@1652949320.111860436\",\"description\":\"Error received from peer ipv6:[::1]:8500\",\"file\":\"src/core/lib/surface/call.cc\",\"file_line\":952,\"grpc_message\":\"Received message larger than max (6451291 vs. 4194304)\",\"grpc_status\":8}\"\n>",
     "output_type": "error",
     "traceback": [
      "\u001b[0;31m---------------------------------------------------------------------------\u001b[0m",
      "\u001b[0;31m_InactiveRpcError\u001b[0m                         Traceback (most recent call last)",
      "\u001b[1;32m/media/DATA1/shared/PBL6/pruebas.ipynb Cell 17'\u001b[0m in \u001b[0;36m<cell line: 1>\u001b[0;34m()\u001b[0m\n\u001b[0;32m----> <a href='vscode-notebook-cell://ssh-remote%2Bservkolay.ddns.net/media/DATA1/shared/PBL6/pruebas.ipynb#ch0000016vscode-remote?line=0'>1</a>\u001b[0m result \u001b[39m=\u001b[39m stub\u001b[39m.\u001b[39;49mPredict(request, \u001b[39m10\u001b[39;49m)\n",
      "File \u001b[0;32m/media/DATA1/shared/PBL6/env/lib/python3.8/site-packages/grpc/_channel.py:946\u001b[0m, in \u001b[0;36m_UnaryUnaryMultiCallable.__call__\u001b[0;34m(self, request, timeout, metadata, credentials, wait_for_ready, compression)\u001b[0m\n\u001b[1;32m    <a href='file:///media/DATA1/shared/PBL6/env/lib/python3.8/site-packages/grpc/_channel.py?line=936'>937</a>\u001b[0m \u001b[39mdef\u001b[39;00m \u001b[39m__call__\u001b[39m(\u001b[39mself\u001b[39m,\n\u001b[1;32m    <a href='file:///media/DATA1/shared/PBL6/env/lib/python3.8/site-packages/grpc/_channel.py?line=937'>938</a>\u001b[0m              request,\n\u001b[1;32m    <a href='file:///media/DATA1/shared/PBL6/env/lib/python3.8/site-packages/grpc/_channel.py?line=938'>939</a>\u001b[0m              timeout\u001b[39m=\u001b[39m\u001b[39mNone\u001b[39;00m,\n\u001b[0;32m   (...)\u001b[0m\n\u001b[1;32m    <a href='file:///media/DATA1/shared/PBL6/env/lib/python3.8/site-packages/grpc/_channel.py?line=941'>942</a>\u001b[0m              wait_for_ready\u001b[39m=\u001b[39m\u001b[39mNone\u001b[39;00m,\n\u001b[1;32m    <a href='file:///media/DATA1/shared/PBL6/env/lib/python3.8/site-packages/grpc/_channel.py?line=942'>943</a>\u001b[0m              compression\u001b[39m=\u001b[39m\u001b[39mNone\u001b[39;00m):\n\u001b[1;32m    <a href='file:///media/DATA1/shared/PBL6/env/lib/python3.8/site-packages/grpc/_channel.py?line=943'>944</a>\u001b[0m     state, call, \u001b[39m=\u001b[39m \u001b[39mself\u001b[39m\u001b[39m.\u001b[39m_blocking(request, timeout, metadata, credentials,\n\u001b[1;32m    <a href='file:///media/DATA1/shared/PBL6/env/lib/python3.8/site-packages/grpc/_channel.py?line=944'>945</a>\u001b[0m                                   wait_for_ready, compression)\n\u001b[0;32m--> <a href='file:///media/DATA1/shared/PBL6/env/lib/python3.8/site-packages/grpc/_channel.py?line=945'>946</a>\u001b[0m     \u001b[39mreturn\u001b[39;00m _end_unary_response_blocking(state, call, \u001b[39mFalse\u001b[39;49;00m, \u001b[39mNone\u001b[39;49;00m)\n",
      "File \u001b[0;32m/media/DATA1/shared/PBL6/env/lib/python3.8/site-packages/grpc/_channel.py:849\u001b[0m, in \u001b[0;36m_end_unary_response_blocking\u001b[0;34m(state, call, with_call, deadline)\u001b[0m\n\u001b[1;32m    <a href='file:///media/DATA1/shared/PBL6/env/lib/python3.8/site-packages/grpc/_channel.py?line=846'>847</a>\u001b[0m         \u001b[39mreturn\u001b[39;00m state\u001b[39m.\u001b[39mresponse\n\u001b[1;32m    <a href='file:///media/DATA1/shared/PBL6/env/lib/python3.8/site-packages/grpc/_channel.py?line=847'>848</a>\u001b[0m \u001b[39melse\u001b[39;00m:\n\u001b[0;32m--> <a href='file:///media/DATA1/shared/PBL6/env/lib/python3.8/site-packages/grpc/_channel.py?line=848'>849</a>\u001b[0m     \u001b[39mraise\u001b[39;00m _InactiveRpcError(state)\n",
      "\u001b[0;31m_InactiveRpcError\u001b[0m: <_InactiveRpcError of RPC that terminated with:\n\tstatus = StatusCode.RESOURCE_EXHAUSTED\n\tdetails = \"Received message larger than max (6451291 vs. 4194304)\"\n\tdebug_error_string = \"{\"created\":\"@1652949320.111860436\",\"description\":\"Error received from peer ipv6:[::1]:8500\",\"file\":\"src/core/lib/surface/call.cc\",\"file_line\":952,\"grpc_message\":\"Received message larger than max (6451291 vs. 4194304)\",\"grpc_status\":8}\"\n>"
     ]
    }
   ],
   "source": [
    "result = stub.Predict(request, 10)"
   ]
  },
  {
   "cell_type": "code",
   "execution_count": null,
   "metadata": {},
   "outputs": [],
   "source": [
    "pred = model.predict(sendable)\n",
    "pred = np.squeeze(pred)\n",
    "pred = np.argmax(pred, axis=-1)\n",
    "pred = rgb_encode_mask(pred)\n",
    "pred = pred*255\n",
    "\n",
    "p = np.array(pred, dtype=np.uint8)\n",
    "\n",
    "visualize(p)"
   ]
  },
  {
   "cell_type": "code",
   "execution_count": 8,
   "metadata": {},
   "outputs": [
    {
     "name": "stderr",
     "output_type": "stream",
     "text": [
      "2022-05-24 06:50:11.675926: I tensorflow/stream_executor/cuda/cuda_gpu_executor.cc:936] successful NUMA node read from SysFS had negative value (-1), but there must be at least one NUMA node, so returning NUMA node zero\n",
      "2022-05-24 06:50:11.676788: W tensorflow/stream_executor/platform/default/dso_loader.cc:64] Could not load dynamic library 'libcudart.so.11.0'; dlerror: libcudart.so.11.0: cannot open shared object file: No such file or directory; LD_LIBRARY_PATH: /media/DATA1/shared/PBL6/env/lib/python3.8/site-packages/cv2/../../lib64:\n",
      "2022-05-24 06:50:11.677221: W tensorflow/stream_executor/platform/default/dso_loader.cc:64] Could not load dynamic library 'libcublas.so.11'; dlerror: libcublas.so.11: cannot open shared object file: No such file or directory; LD_LIBRARY_PATH: /media/DATA1/shared/PBL6/env/lib/python3.8/site-packages/cv2/../../lib64:\n",
      "2022-05-24 06:50:11.677619: W tensorflow/stream_executor/platform/default/dso_loader.cc:64] Could not load dynamic library 'libcublasLt.so.11'; dlerror: libcublasLt.so.11: cannot open shared object file: No such file or directory; LD_LIBRARY_PATH: /media/DATA1/shared/PBL6/env/lib/python3.8/site-packages/cv2/../../lib64:\n",
      "2022-05-24 06:50:11.678018: W tensorflow/stream_executor/platform/default/dso_loader.cc:64] Could not load dynamic library 'libcufft.so.10'; dlerror: libcufft.so.10: cannot open shared object file: No such file or directory; LD_LIBRARY_PATH: /media/DATA1/shared/PBL6/env/lib/python3.8/site-packages/cv2/../../lib64:\n",
      "2022-05-24 06:50:11.678414: W tensorflow/stream_executor/platform/default/dso_loader.cc:64] Could not load dynamic library 'libcurand.so.10'; dlerror: libcurand.so.10: cannot open shared object file: No such file or directory; LD_LIBRARY_PATH: /media/DATA1/shared/PBL6/env/lib/python3.8/site-packages/cv2/../../lib64:\n",
      "2022-05-24 06:50:11.678809: W tensorflow/stream_executor/platform/default/dso_loader.cc:64] Could not load dynamic library 'libcusolver.so.11'; dlerror: libcusolver.so.11: cannot open shared object file: No such file or directory; LD_LIBRARY_PATH: /media/DATA1/shared/PBL6/env/lib/python3.8/site-packages/cv2/../../lib64:\n",
      "2022-05-24 06:50:11.679210: W tensorflow/stream_executor/platform/default/dso_loader.cc:64] Could not load dynamic library 'libcusparse.so.11'; dlerror: libcusparse.so.11: cannot open shared object file: No such file or directory; LD_LIBRARY_PATH: /media/DATA1/shared/PBL6/env/lib/python3.8/site-packages/cv2/../../lib64:\n",
      "2022-05-24 06:50:11.679606: W tensorflow/stream_executor/platform/default/dso_loader.cc:64] Could not load dynamic library 'libcudnn.so.8'; dlerror: libcudnn.so.8: cannot open shared object file: No such file or directory; LD_LIBRARY_PATH: /media/DATA1/shared/PBL6/env/lib/python3.8/site-packages/cv2/../../lib64:\n",
      "2022-05-24 06:50:11.679618: W tensorflow/core/common_runtime/gpu/gpu_device.cc:1850] Cannot dlopen some GPU libraries. Please make sure the missing libraries mentioned above are installed properly if you would like to use GPU. Follow the guide at https://www.tensorflow.org/install/gpu for how to download and setup the required libraries for your platform.\n",
      "Skipping registering GPU devices...\n",
      "2022-05-24 06:50:11.691061: I tensorflow/core/platform/cpu_feature_guard.cc:151] This TensorFlow binary is optimized with oneAPI Deep Neural Network Library (oneDNN) to use the following CPU instructions in performance-critical operations:  AVX2 FMA\n",
      "To enable them in other operations, rebuild TensorFlow with the appropriate compiler flags.\n"
     ]
    }
   ],
   "source": [
    "from tensorflow.keras.models import load_model\n",
    "\n",
    "model = load_model('resnetv2.h5', custom_objects={'jaccard_index': jaccard_index})\n"
   ]
  },
  {
   "cell_type": "code",
   "execution_count": 9,
   "metadata": {},
   "outputs": [
    {
     "name": "stderr",
     "output_type": "stream",
     "text": [
      "2022-05-24 06:50:32.903480: W tensorflow/python/util/util.cc:368] Sets are not currently considered sequences, but this may change in the future, so consider avoiding using them.\n"
     ]
    },
    {
     "name": "stdout",
     "output_type": "stream",
     "text": [
      "INFO:tensorflow:Assets written to: ecrop-main-serving/assets\n"
     ]
    }
   ],
   "source": [
    "model.save('ecrop-main-serving', save_format='tf',  )"
   ]
  },
  {
   "cell_type": "code",
   "execution_count": 10,
   "metadata": {},
   "outputs": [
    {
     "ename": "NameError",
     "evalue": "name 'sendable' is not defined",
     "output_type": "error",
     "traceback": [
      "\u001b[0;31m---------------------------------------------------------------------------\u001b[0m",
      "\u001b[0;31mNameError\u001b[0m                                 Traceback (most recent call last)",
      "\u001b[1;32m/media/DATA1/shared/PBL6/pruebas.ipynb Cell 19'\u001b[0m in \u001b[0;36m<cell line: 1>\u001b[0;34m()\u001b[0m\n\u001b[0;32m----> <a href='vscode-notebook-cell://ssh-remote%2Bservkolay.ddns.net/media/DATA1/shared/PBL6/pruebas.ipynb#ch0000019vscode-remote?line=0'>1</a>\u001b[0m out \u001b[39m=\u001b[39m model\u001b[39m.\u001b[39mpredict(sendable\u001b[39m.\u001b[39mastype(np\u001b[39m.\u001b[39muint8))\n",
      "\u001b[0;31mNameError\u001b[0m: name 'sendable' is not defined"
     ]
    }
   ],
   "source": [
    "out = model.predict(sendable.astype(np.uint8))"
   ]
  },
  {
   "cell_type": "code",
   "execution_count": null,
   "metadata": {},
   "outputs": [],
   "source": []
  }
 ],
 "metadata": {
  "interpreter": {
   "hash": "5873b2ce1d0814eeeaf9049717a39c9e63ca0e9502b50f2615166b10c5e24a4e"
  },
  "kernelspec": {
   "display_name": "Python 3.8.10 ('env': venv)",
   "language": "python",
   "name": "python3"
  },
  "language_info": {
   "codemirror_mode": {
    "name": "ipython",
    "version": 3
   },
   "file_extension": ".py",
   "mimetype": "text/x-python",
   "name": "python",
   "nbconvert_exporter": "python",
   "pygments_lexer": "ipython3",
   "version": "3.8.10"
  },
  "orig_nbformat": 4
 },
 "nbformat": 4,
 "nbformat_minor": 2
}
